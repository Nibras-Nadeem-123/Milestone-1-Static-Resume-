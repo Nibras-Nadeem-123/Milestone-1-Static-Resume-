{
  "nbformat": 4,
  "nbformat_minor": 0,
  "metadata": {
    "colab": {
      "provenance": [],
      "authorship_tag": "ABX9TyO2Pe1AzRdvSWE+deAJ42RE",
      "include_colab_link": true
    },
    "kernelspec": {
      "name": "python3",
      "display_name": "Python 3"
    },
    "language_info": {
      "name": "python"
    }
  },
  "cells": [
    {
      "cell_type": "markdown",
      "metadata": {
        "id": "view-in-github",
        "colab_type": "text"
      },
      "source": [
        "<a href=\"https://colab.research.google.com/github/Nibras-Nadeem-123/Milestone-1-Static-Resume-/blob/main/01_add_two_numbers.ipynb\" target=\"_parent\"><img src=\"https://colab.research.google.com/assets/colab-badge.svg\" alt=\"Open In Colab\"/></a>"
      ]
    },
    {
      "cell_type": "markdown",
      "source": [
        "01_add_two_numbers"
      ],
      "metadata": {
        "id": "EQozxIqYRBpm"
      }
    },
    {
      "cell_type": "code",
      "source": [
        "def main():\n",
        "  print(\"This program adds to numbers\")\n",
        "  first: str = input(\"Enter First Number: \")\n",
        "  num1 : int= int(first)\n",
        "  second: str = input(\"Enter Second Number: \")\n",
        "  num2: int = int(second)\n",
        "  total: int = num1 + num2\n",
        "  print(f\"The sum of these numbers are {total}\")\n",
        "\n",
        "# This line is important for the python program to call the main() function\n",
        "if __name__ == '__main__':\n",
        "  main()"
      ],
      "metadata": {
        "colab": {
          "base_uri": "https://localhost:8080/"
        },
        "id": "JUWUx1ZPRJSG",
        "outputId": "9a500a42-b333-44d8-ace3-f3b3124bfb1b"
      },
      "execution_count": 7,
      "outputs": [
        {
          "output_type": "stream",
          "name": "stdout",
          "text": [
            "This program adds to numbers\n",
            "Enter First Number 6\n",
            "Enter Second Number 8\n",
            "The sum of these numbers are 14\n"
          ]
        }
      ]
    },
    {
      "cell_type": "markdown",
      "source": [
        "Simplify version"
      ],
      "metadata": {
        "id": "c4af-hqyhcos"
      }
    },
    {
      "cell_type": "code",
      "source": [
        "def main():\n",
        "  print(\"This program add two numbers\")\n",
        "  first = int(input(\"Enter first number:\"))\n",
        "  second = int(input(\"Enter second number:\"))\n",
        "  total = first + second\n",
        "  print(f\"The sum of these numbers are {total}\")\n",
        "\n",
        "if __name__ == '__main__':\n",
        "  main()"
      ],
      "metadata": {
        "colab": {
          "base_uri": "https://localhost:8080/"
        },
        "id": "39k5W0xxhbML",
        "outputId": "c065ca94-cd9a-4a1a-9a71-4480f7716681"
      },
      "execution_count": 9,
      "outputs": [
        {
          "output_type": "stream",
          "name": "stdout",
          "text": [
            "This program add two numbers\n",
            "Enter first number:4\n",
            "Enter second number:5\n",
            "The sum of these numbers are 9\n"
          ]
        }
      ]
    }
  ]
}